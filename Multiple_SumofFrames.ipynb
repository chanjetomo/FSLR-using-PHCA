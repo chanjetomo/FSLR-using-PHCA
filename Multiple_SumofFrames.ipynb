{
 "cells": [
  {
   "cell_type": "markdown",
   "metadata": {},
   "source": [
    "## Obtaining Sum of Frame Differences for $n$ classes"
   ]
  },
  {
   "cell_type": "markdown",
   "metadata": {},
   "source": [
    "### Import Dependencies  "
   ]
  },
  {
   "cell_type": "code",
   "execution_count": 16,
   "metadata": {},
   "outputs": [],
   "source": [
    "import cv2\n",
    "import numpy as np\n",
    "import matplotlib.pyplot as plt\n",
    "import os\n",
    "import zipfile\n",
    "import collections\n",
    "import re"
   ]
  },
  {
   "cell_type": "markdown",
   "metadata": {},
   "source": [
    "### Loading Filename of Dataset from a ZIP file into a Python Dictionary"
   ]
  },
  {
   "cell_type": "code",
   "execution_count": 2,
   "metadata": {},
   "outputs": [],
   "source": [
    "def list_files_from_zip_path(path):\n",
    "    \"\"\" \n",
    "    List the files in each class of the dataset given a PATH with the zip file\n",
    "    Args:\n",
    "    PATH - path of the zip file saved in the same folder\n",
    "    \n",
    "    Returns:\n",
    "    file_names - list all files read in the zip.file, including folder names\n",
    "    \"\"\"\n",
    "    file_names = []\n",
    "    with zipfile.ZipFile(path, 'r') as zip:\n",
    "        for file_info in zip.infolist():\n",
    "            file_names.append(file_info.filename)\n",
    "    return file_names"
   ]
  },
  {
   "cell_type": "code",
   "execution_count": 3,
   "metadata": {},
   "outputs": [],
   "source": [
    "# Extract all files from zip. Separate the videos from folders names\n",
    "\n",
    "file_names = list_files_from_zip_path('clips.zip')\n",
    "videos = [f for f in file_names if f.endswith('MOV')]\n",
    "folders = [f for f in file_names if not f.endswith('MOV')]"
   ]
  },
  {
   "cell_type": "code",
   "execution_count": 4,
   "metadata": {},
   "outputs": [],
   "source": [
    "def get_files_per_class(videos, folders):\n",
    "    \"\"\" Compile videos according to class\n",
    "    \n",
    "    Args:\n",
    "    videos - filename of videos\n",
    "    folders - filename of folders\n",
    "\n",
    "    Returns:\n",
    "    video_and_class - dictionary with class (key) and videos (values)\n",
    "    \"\"\"\n",
    "    video_and_class = collections.defaultdict(list)\n",
    "\n",
    "    # Extracts the class number from the folder name\n",
    "    for folder in folders:\n",
    "        class_key = int(re.findall(r'\\d+', folder)[0])\n",
    "\n",
    "        for video in videos:\n",
    "            if folder in video:\n",
    "                video_and_class[class_key].append(video)\n",
    "    return video_and_class"
   ]
  },
  {
   "cell_type": "code",
   "execution_count": 5,
   "metadata": {},
   "outputs": [],
   "source": [
    "# returns a dictionary with paths of subfolder and each videos inside\n",
    "file_dictionary = get_files_per_class(videos, folders)"
   ]
  },
  {
   "cell_type": "markdown",
   "metadata": {},
   "source": [
    "#### Loading Subset of Dataset"
   ]
  },
  {
   "cell_type": "code",
   "execution_count": 6,
   "metadata": {},
   "outputs": [],
   "source": [
    "def subset_data(file_dictionary, num_class=2, num_videos=20):\n",
    "    \"\"\" \n",
    "    Selects a subset of the complete videos dictionary containing the first num_class classes.\n",
    "\n",
    "    Args:\n",
    "    file_dictionary - dictionary of the complete videos with class\n",
    "    num_class - number of classes in the subset\n",
    "\n",
    "    Return:\n",
    "    files_subset - A subset dictionary with class (keys) and values (videos)\n",
    "    class_subset - list of the keys of files_subset\n",
    "    \"\"\"\n",
    "    subset = {k: file_dictionary[k][:num_videos] for k in np.sort(list(file_dictionary))[:num_class]}\n",
    "    return subset, list(subset.keys())"
   ]
  },
  {
   "cell_type": "code",
   "execution_count": 1,
   "metadata": {},
   "outputs": [],
   "source": [
    "from modules.module_GenerateDataset import fslDataset as fsl"
   ]
  },
  {
   "cell_type": "markdown",
   "metadata": {},
   "source": [
    "### Sum of Frame Difference"
   ]
  },
  {
   "cell_type": "markdown",
   "metadata": {},
   "source": [
    "#### Helper Functions"
   ]
  },
  {
   "cell_type": "code",
   "execution_count": 8,
   "metadata": {},
   "outputs": [],
   "source": [
    "def get_video_properties(cap):\n",
    "  ''' Returns number of frames, height, and width of a video'''\n",
    "  n_frames = int(cap.get(cv2.CAP_PROP_FRAME_COUNT))\n",
    "\n",
    "  ret, frame = cap.read()\n",
    "  if ret:\n",
    "    return n_frames, frame.shape[0], frame.shape[1]\n",
    "\n",
    "def frame_placeholders(n, height, width):\n",
    "  \"\"\" Returns a list of length n with entries np.zeros((height, width), dtype.uint8) \"\"\"\n",
    "  pholder = []\n",
    "  for i in range(n):\n",
    "    pholder.append(np.zeros((height, width), dtype=np.uint8))\n",
    "  return pholder\n",
    "\n",
    "# def frame_to_rgb(frame):\n",
    "#   \"\"\" Splits the frame into arrays of R, G, and B \"\"\"\n",
    "#   r, g, b = cv2.split(frame)\n",
    "#   return np.asarray([r, g, b])\n",
    "\n",
    "def reduce_noise(frame, upperthresh, lowerthresh):\n",
    "  \"\"\" Changes pixel value to 0 if value > upperthresh or value < lowerthresh \"\"\"\n",
    "  # colors = frame_to_rgb(frame)\n",
    "  # for color in colors:\n",
    "  #   color[color < lowerthresh] = 0\n",
    "  #   color[color > upperthresh] = 0\n",
    "  # return cv2.merge([colors[0],colors[1], colors[2]])\n",
    "  frame[frame < lowerthresh] = 0\n",
    "  frame[frame > upperthresh] = 0\n",
    "  return frame\n",
    "\n",
    "def save_temporal_features(frame, upperthresh, frame_idx):\n",
    "  \"\"\" Saves the temporal features of the frame difference \"\"\"\n",
    "  # colors = frame_to_rgb(frame)\n",
    "  # for color in colors:\n",
    "  #   color[color!=0] = np.floor(upperthresh/frame_idx)\n",
    "  # return cv2.merge([colors[0],colors[1], colors[2]])\n",
    "  frame[frame!=0] = np.floor(upperthresh/frame_idx)\n",
    "  return frame\n",
    "\n",
    "def to_onerow(sum_frame, height, width):\n",
    "  \"\"\" Converts the frame matrix to a one-row array \"\"\"\n",
    "  return sum_frame.reshape(1, height*width)"
   ]
  },
  {
   "cell_type": "markdown",
   "metadata": {},
   "source": [
    "#### Main Sum of Frame Difference Function"
   ]
  },
  {
   "cell_type": "code",
   "execution_count": 9,
   "metadata": {},
   "outputs": [],
   "source": [
    "def SumFrameDiff(path):\n",
    "\n",
    "    # Importing video files\n",
    "    cap = cv2.VideoCapture(path)\n",
    "\n",
    "    # Video properties\n",
    "    n_frames, height, width = get_video_properties(cap)\n",
    "\n",
    "    # frame interval\n",
    "    frame_int = 1\n",
    "\n",
    "    # create placeholders\n",
    "    [prev_frame, diff_frame, sum_frame] = frame_placeholders(3, height, width)\n",
    "\n",
    "    for frame in range(n_frames):\n",
    "        ret, img = cap.read()\n",
    "        if ret == False:\n",
    "            break\n",
    "\n",
    "        if frame % frame_int == 0:\n",
    "            curr_frame = cv2.cvtColor(img, cv2.COLOR_BGR2GRAY)\n",
    "\n",
    "            # save and pass first frame\n",
    "            if frame == 0:\n",
    "                prev_frame = curr_frame\n",
    "            else:\n",
    "                # frame difference\n",
    "                diff_frame = cv2.subtract(curr_frame, prev_frame)\n",
    "\n",
    "                # noise reduction\n",
    "                diff_frame = reduce_noise(diff_frame, upperthresh=200, lowerthresh=55)\n",
    "                \n",
    "                # save temporal feature for summing\n",
    "                diff_frame = save_temporal_features(diff_frame, upperthresh=255, frame_idx=frame)\n",
    "\n",
    "                # save in sum_frame\n",
    "                sum_frame = cv2.add(sum_frame, diff_frame)\n",
    "\n",
    "                prev_frame = curr_frame\n",
    "    cap.release()\n",
    "\n",
    "    sum_frame = to_onerow(sum_frame, height, width)\n",
    "    return sum_frame\n"
   ]
  },
  {
   "cell_type": "markdown",
   "metadata": {},
   "source": [
    "#### Implementation"
   ]
  },
  {
   "cell_type": "code",
   "execution_count": null,
   "metadata": {},
   "outputs": [],
   "source": [
    "# for loop trial\n",
    "# prints all paths of clips (according to class)\n",
    "for k in class_subset:\n",
    "    for value_idx in range(len(files_subset[k])):\n",
    "        print(list(files_subset.values())[k][value_idx])"
   ]
  },
  {
   "cell_type": "code",
   "execution_count": 13,
   "metadata": {},
   "outputs": [],
   "source": [
    "class_and_sumframes = collections.defaultdict(list)\n",
    "\n",
    "for k in class_subset:\n",
    "    \n",
    "    for value_idx in range(len(files_subset[k])):\n",
    "\n",
    "        # obtains path of the video from class k\n",
    "        path = list(files_subset.values())[k][value_idx]\n",
    "\n",
    "        # perform sum of frame difference on video\n",
    "        sum_frame = SumFrameDiff(path)\n",
    "\n",
    "        # add 1D sum_frame to dictionary per class\n",
    "        class_and_sumframes[k].extend(sum_frame)"
   ]
  },
  {
   "cell_type": "markdown",
   "metadata": {},
   "source": [
    "### Exporting Dictionary of Class and SumFrames to an Excel File"
   ]
  },
  {
   "cell_type": "code",
   "execution_count": 16,
   "metadata": {},
   "outputs": [],
   "source": [
    "import pandas as pd\n",
    "\n",
    "df = pd.DataFrame(data=class_and_sumframes)\n",
    "df.to_excel('class_and_sumframes.xlsx', index=False)"
   ]
  },
  {
   "cell_type": "code",
   "execution_count": 14,
   "metadata": {},
   "outputs": [],
   "source": [
    "sum_frame = SumFrameDiff('clips/3/6.MOV')"
   ]
  },
  {
   "cell_type": "code",
   "execution_count": 15,
   "metadata": {},
   "outputs": [
    {
     "data": {
      "text/plain": [
       "<matplotlib.image.AxesImage at 0x17c4ac94910>"
      ]
     },
     "execution_count": 15,
     "metadata": {},
     "output_type": "execute_result"
    },
    {
     "data": {
      "image/png": "[encoded data removed]",
      "text/plain": [
       "<Figure size 640x480 with 1 Axes>"
      ]
     },
     "metadata": {},
     "output_type": "display_data"
    }
   ],
   "source": [
    "plt.imshow(sum_frame.reshape(360, 640), cmap='gray')"
   ]
  },
  {
   "cell_type": "code",
   "execution_count": null,
   "metadata": {},
   "outputs": [],
   "source": []
  }
 ],
 "metadata": {
  "kernelspec": {
   "display_name": "Python 3",
   "language": "python",
   "name": "python3"
  },
  "language_info": {
   "codemirror_mode": {
    "name": "ipython",
    "version": 3
   },
   "file_extension": ".py",
   "mimetype": "text/x-python",
   "name": "python",
   "nbconvert_exporter": "python",
   "pygments_lexer": "ipython3",
   "version": "3.10.5"
  },
  "orig_nbformat": 4
 },
 "nbformat": 4,
 "nbformat_minor": 2
}
