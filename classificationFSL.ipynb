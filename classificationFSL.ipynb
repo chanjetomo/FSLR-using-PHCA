{
 "cells": [
  {
   "cell_type": "markdown",
   "metadata": {},
   "source": [
    "## Notebook for FSLR using PHCA"
   ]
  },
  {
   "cell_type": "code",
   "execution_count": 1,
   "metadata": {},
   "outputs": [],
   "source": [
    "# importing packages\n",
    "import numpy as np\n",
    "import matplotlib.pyplot as plt\n",
    "\n",
    "# self-made modules\n",
    "from modules.module_GenerateDataset import fslDataset as fsl\n",
    "from modules.module_SumFrameDiff import sumFrameDiff as sfd\n",
    "from modules.module_ClassificationFunctions import shuffle_per_class, kfoldDivideData, fivefoldDivideData, get_classificationReport\n",
    "from modules.module_PHCA import PersistentHomologyClassifier\n",
    "\n",
    "import warnings\n",
    "warnings.filterwarnings(\"ignore\") "
   ]
  },
  {
   "cell_type": "code",
   "execution_count": 2,
   "metadata": {},
   "outputs": [],
   "source": [
    "# initial parameters\n",
    "data_name = 'Filipino Sign Language'\n",
    "folds = 5\n",
    "classes = 3\n",
    "data_per_class = 20\n",
    "zip_path = 'clips.zip'\n",
    "\n",
    "classificationMeasurements = ['precision', 'f1-score', 'specificity', 'recall', 'support', 'accuracy']"
   ]
  },
  {
   "cell_type": "markdown",
   "metadata": {},
   "source": [
    "#### Dataset Collection"
   ]
  },
  {
   "cell_type": "code",
   "execution_count": 4,
   "metadata": {},
   "outputs": [
    {
     "name": "stdout",
     "output_type": "stream",
     "text": [
      "\n",
      " Collecting data from dataset ...\n",
      "Data collected and saved in an npy file.\n"
     ]
    }
   ],
   "source": [
    "print('\\n Collecting data from dataset ...')\n",
    "dataset_paths = fsl.generate_dataset(fsl, zip_path, numclass=classes)\n",
    "num_data = len(dataset_paths['data'])\n",
    "\n",
    "FSL_dataset = {'data': [], 'target': dataset_paths['target']}\n",
    "for n in range(num_data):\n",
    "    vidpath = dataset_paths['data'][n]\n",
    "    sumframe = sfd.SumFrameDiff(sfd, vidpath)\n",
    "    # FSL_dataset['data'][n] = sumframe\n",
    "    FSL_dataset['data'].append(sumframe)\n",
    "\n",
    "# save FSL_Dataset into an npy file\n",
    "np.save(f\"FSLdataset_{str(classes)}classes.npy\", FSL_dataset)\n",
    "print('Data collected and saved in an npy file.')"
   ]
  },
  {
   "cell_type": "code",
   "execution_count": 4,
   "metadata": {},
   "outputs": [],
   "source": [
    "# loading dataset from npy file\n",
    "FSL_dataset = np.load(f\"FSLdataset_{str(classes)}classes.npy\", allow_pickle=True)\n",
    "FSL_dataset = {'data': FSL_dataset.item().get('data'),\n",
    "               'target': FSL_dataset.item().get('target')}"
   ]
  },
  {
   "cell_type": "code",
   "execution_count": 13,
   "metadata": {},
   "outputs": [
    {
     "data": {
      "text/plain": [
       "230400"
      ]
     },
     "execution_count": 13,
     "metadata": {},
     "output_type": "execute_result"
    }
   ],
   "source": [
    "len(FSL_dataset['data'][0])"
   ]
  },
  {
   "cell_type": "code",
   "execution_count": 5,
   "metadata": {},
   "outputs": [],
   "source": [
    "# sorting dataset in increasing target values\n",
    "sorted_inds = np.array(FSL_dataset['target']).argsort()\n",
    "FSL_dataset['data'], FSL_dataset['target'] = [FSL_dataset['data'][i] for i in sorted_inds], [FSL_dataset['target'][i] for i in sorted_inds]"
   ]
  },
  {
   "cell_type": "code",
   "execution_count": 6,
   "metadata": {},
   "outputs": [
    {
     "name": "stdout",
     "output_type": "stream",
     "text": [
      "\n",
      " Data collection finished. Features extracted.\n"
     ]
    }
   ],
   "source": [
    "# shuffling dataset per class\n",
    "FSLData, FSLTarget = shuffle_per_class(FSL_dataset, data_per_class, classes)\n",
    "print('\\n Data collection finished. Features extracted.')"
   ]
  },
  {
   "cell_type": "markdown",
   "metadata": {},
   "source": [
    "#### Five Fold Validation"
   ]
  },
  {
   "cell_type": "code",
   "execution_count": 7,
   "metadata": {},
   "outputs": [
    {
     "data": {
      "text/plain": [
       "5"
      ]
     },
     "execution_count": 7,
     "metadata": {},
     "output_type": "execute_result"
    }
   ],
   "source": [
    "fivefoldData, fivefoldTarget = kfoldDivideData(FSLData, FSLTarget, data_per_class)\n",
    "# fivefoldData, fivefoldTarget = fivefoldDivideData(FSLData, FSLTarget)\n",
    "len(fivefoldTarget)"
   ]
  },
  {
   "cell_type": "code",
   "execution_count": 8,
   "metadata": {},
   "outputs": [
    {
     "name": "stdout",
     "output_type": "stream",
     "text": [
      "Starting fivefold validation\n",
      "\n",
      "Running validation 0\n",
      "\n",
      "The PHCA model is learning from the data...\n",
      "Model finished learning.\n",
      "The model is now predicting new data.\n",
      "Model is finished predicting.\n",
      "\n",
      "Running validation 1\n",
      "\n",
      "The PHCA model is learning from the data...\n",
      "Model finished learning.\n",
      "The model is now predicting new data.\n",
      "Model is finished predicting.\n",
      "\n",
      "Running validation 2\n",
      "\n",
      "The PHCA model is learning from the data...\n",
      "Model finished learning.\n",
      "The model is now predicting new data.\n",
      "Model is finished predicting.\n",
      "\n",
      "Running validation 3\n",
      "\n",
      "The PHCA model is learning from the data...\n",
      "Model finished learning.\n",
      "The model is now predicting new data.\n",
      "Model is finished predicting.\n",
      "\n",
      "Running validation 4\n",
      "\n",
      "The PHCA model is learning from the data...\n",
      "Model finished learning.\n",
      "The model is now predicting new data.\n",
      "Model is finished predicting.\n"
     ]
    }
   ],
   "source": [
    "method_labels = {'true_labels': [], 'phca': []}\n",
    "\n",
    "print(\"Starting fivefold validation\")\n",
    "for val in range(folds):\n",
    "    print(f\"\\nRunning validation {val}\")\n",
    "\n",
    "    x_train, y_train, x_test, y_test = [], [], [], []\n",
    "    for j in range(folds):\n",
    "        if j == val:\n",
    "            x_test += fivefoldData[j]\n",
    "            y_test += fivefoldTarget[j]\n",
    "        else:\n",
    "            x_train += fivefoldData[j]\n",
    "            y_train += fivefoldTarget[j]\n",
    "    \n",
    "    print(\"\\nThe PHCA model is learning from the data...\")\n",
    "\n",
    "    # Persistent Homology Classifier\n",
    "    PHCmodel = PersistentHomologyClassifier()\n",
    "    PHCmodel.fit(x_train, y_train)\n",
    "\n",
    "    print(\"Model finished learning.\")\n",
    "    print(\"The model is now predicting new data.\")\n",
    "\n",
    "    method_labels['true_labels'] += y_test\n",
    "    for y in range(len(y_test)):\n",
    "        method_labels[\"phca\"].append(PHCmodel.predict(x_test[y]))\n",
    "    \n",
    "    print(\"Model is finished predicting.\")\n"
   ]
  },
  {
   "cell_type": "markdown",
   "metadata": {},
   "source": [
    "#### Classification Report"
   ]
  },
  {
   "cell_type": "code",
   "execution_count": 9,
   "metadata": {},
   "outputs": [
    {
     "name": "stdout",
     "output_type": "stream",
     "text": [
      "              precision    recall  f1-score   support\n",
      "\n",
      "           0       0.95      0.95      0.95        20\n",
      "           1       0.70      0.70      0.70        20\n",
      "           2       0.75      0.75      0.75        20\n",
      "\n",
      "    accuracy                           0.80        60\n",
      "   macro avg       0.80      0.80      0.80        60\n",
      "weighted avg       0.80      0.80      0.80        60\n",
      "\n"
     ]
    }
   ],
   "source": [
    "from sklearn.metrics import classification_report\n",
    "\n",
    "print(classification_report(method_labels['true_labels'], method_labels['phca']))"
   ]
  },
  {
   "cell_type": "code",
   "execution_count": 10,
   "metadata": {},
   "outputs": [],
   "source": [
    "classificationReport = get_classificationReport(method_labels)"
   ]
  },
  {
   "cell_type": "code",
   "execution_count": 13,
   "metadata": {},
   "outputs": [
    {
     "data": {
      "image/png": "[encoded data removed]",
      "text/plain": [
       "<Figure size 2000x700 with 2 Axes>"
      ]
     },
     "metadata": {},
     "output_type": "display_data"
    }
   ],
   "source": [
    "fig, axs = plt.subplots(1,2, figsize=(20, 7))\n",
    "axs = axs.flatten()\n",
    "\n",
    "fig.suptitle(f'{data_name} \\n classes = {classes}', fontsize=20)\n",
    "\n",
    "values = []\n",
    "measures = []\n",
    "for measurement in classificationMeasurements:\n",
    "    if measurement == 'accuracy':\n",
    "        values.append(classificationReport['phca'][measurement])\n",
    "        measures.append(measurement)\n",
    "    elif measurement == 'support':\n",
    "        sup_value = classificationReport['phca']['macro avg'][measurement]\n",
    "    else:\n",
    "        values.append(classificationReport['phca']['macro avg'][measurement])\n",
    "        measures.append(measurement)\n",
    "\n",
    "for idx in range(len(axs)):\n",
    "    if idx == 1:\n",
    "        # axs[idx].bar('support', sup_value)\n",
    "        pass\n",
    "    else:\n",
    "        p = axs[idx].bar(measures, values)\n",
    "        axs[idx].bar_label(p, [round(v,4) for v in values])\n"
   ]
  },
  {
   "cell_type": "code",
   "execution_count": 14,
   "metadata": {},
   "outputs": [
    {
     "data": {
      "text/plain": [
       "([0, 2, 1, 1, 0, 0, 2, 2, 2, 0, 1, 1, 2, 2, 0],\n",
       " [0, 2, 2, 1, 0, 2, 2, 2, 2, 0, 1, 1, 1, 2, 0])"
      ]
     },
     "execution_count": 14,
     "metadata": {},
     "output_type": "execute_result"
    }
   ],
   "source": [
    "method_labels['true_labels'][15:30], method_labels['phca'][15:30]"
   ]
  }
 ],
 "metadata": {
  "kernelspec": {
   "display_name": "Python 3",
   "language": "python",
   "name": "python3"
  },
  "language_info": {
   "codemirror_mode": {
    "name": "ipython",
    "version": 3
   },
   "file_extension": ".py",
   "mimetype": "text/x-python",
   "name": "python",
   "nbconvert_exporter": "python",
   "pygments_lexer": "ipython3",
   "version": "3.10.5"
  },
  "orig_nbformat": 4
 },
 "nbformat": 4,
 "nbformat_minor": 2
}
